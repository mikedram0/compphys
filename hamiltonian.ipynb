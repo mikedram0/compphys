{
 "cells": [
  {
   "cell_type": "code",
   "execution_count": 1,
   "id": "fc4b483c-10c5-44fb-9e42-2ca32eb368f4",
   "metadata": {},
   "outputs": [],
   "source": [
    "import numpy as np\n",
    "import matplotlib.pyplot as plt\n",
    "from ase.dft.kpoints import bandpath\n",
    "from gpaw import restart\n",
    "from ase.visualize import view\n",
    "\n",
    "atoms, _ = restart(\"mos2_2H_bands.gpw\") \n",
    "num_wann,nrpts = np.loadtxt(\"mos2_hr.dat\", skiprows = 1, max_rows = 2, dtype = int)\n",
    "data = np.loadtxt(\"mos2_hr.dat\", skiprows = int(3 + np.ceil(nrpts/15)) ).T\n",
    "\n",
    "wannier_centers = np.loadtxt(\"mos2_centres.xyz\", skiprows=2, max_rows = num_wann, usecols = [1,2,3])\n",
    "\n",
    "degens = []\n",
    "with open(\"mos2_hr.dat\") as f:\n",
    "    for i, line in enumerate(f):\n",
    "        if i >=3 and i < int(3 + np.ceil(nrpts/15)) :\n",
    "            degens += line.split()\n",
    "\n",
    "degens = np.array(degens, dtype = np.float64)\n",
    "\n",
    "hamiltonian_R = np.array(data[5]).reshape(nrpts,num_wann,num_wann) + 1j*np.array(data[6]).reshape(nrpts,num_wann,num_wann)\n",
    "\n",
    "R_frac = np.unique(np.vstack([data[0],data[1],data[2]]).T,axis = 0) # with respect to the lattice vectors {A_i}\n",
    "assert R_frac.shape[0] == nrpts\n"
   ]
  },
  {
   "cell_type": "code",
   "execution_count": 2,
   "id": "9a8e0c71-8b38-4b72-a68b-436f11b0b7dc",
   "metadata": {},
   "outputs": [
    {
     "data": {
      "text/plain": [
       "<Popen: returncode: None args: ['/usr/bin/python', '-m', 'ase', 'gui', '-']>"
      ]
     },
     "execution_count": 2,
     "metadata": {},
     "output_type": "execute_result"
    }
   ],
   "source": [
    "view(atoms)"
   ]
  },
  {
   "cell_type": "code",
   "execution_count": 3,
   "id": "f212bdc9-9736-4548-b238-e4319c234381",
   "metadata": {
    "scrolled": true
   },
   "outputs": [],
   "source": [
    "#index = R_frac[:,0] < 3\n",
    "#R_frac = R_frac[index]\n",
    "#hamiltonian_R = hamiltonian_R[index]"
   ]
  },
  {
   "cell_type": "code",
   "execution_count": 4,
   "id": "72dd56f3-5057-4afb-b7ce-d5dfadb3b43a",
   "metadata": {},
   "outputs": [
    {
     "name": "stdout",
     "output_type": "stream",
     "text": [
      "max imaginary energy: 8.739724368620186e-15\n"
     ]
    },
    {
     "data": {
      "image/png": "[encoded data removed]",
      "text/plain": [
       "<Figure size 1200x800 with 1 Axes>"
      ]
     },
     "metadata": {},
     "output_type": "display_data"
    }
   ],
   "source": [
    "cell = atoms.cell\n",
    "R_cart = np.dot(R_frac,cell) # Cartesian, Right\n",
    "#R_cart = np.array([np.dot(cell,r) for r in R_frac]) # Cartesian, Wrong\n",
    "\n",
    "\n",
    "bpath = bandpath(path = [[0,0,0],[0.5,0,0],[1/3,1/3,0],[0,0,0]], cell = atoms.cell, npoints = 1000, eps = 1e-6)\n",
    "kpts = bpath.cartesian_kpts()\n",
    "(linear_kpts,ticks,_) = bpath.get_linear_kpoint_axis(1e-6)\n",
    "\n",
    "hamiltonian_k = np.zeros(shape = (len(kpts),num_wann,num_wann), dtype = complex)\n",
    "hamiltonian_k_2 = np.zeros(shape = hamiltonian_k.shape, dtype = complex)\n",
    "\n",
    "for i,kpt in enumerate(kpts):\n",
    "    for j,R in enumerate(R_cart):\n",
    "        hamiltonian_k[i,:,:] += np.exp(1j*2*np.pi*np.dot(kpt,R)) * hamiltonian_R[j,:,:]/degens[j]\n",
    "\n",
    "'''\n",
    "for k,kpt in enumerate(kpts):\n",
    "    for i in range(num_wann):\n",
    "        for j in range(num_wann):\n",
    "            hamiltonian_k_2[k,i,j] = np.exp(-1j*np.dot(kpt,wannier_centers[i] - wannier_centers[j]))*hamiltonian_k[k,i,j]\n",
    "'''\n",
    "\n",
    "energy = np.array([np.linalg.eig(hamiltonian)[0] for hamiltonian in hamiltonian_k]).T\n",
    "print(\"max imaginary energy:\",np.max(energy.imag))\n",
    "\n",
    "plt.figure(figsize = (12,8))\n",
    "#plt.plot(linear_kpts, energy[3], '.' , c = 'b')\n",
    "plt.vlines(ticks[1:-1],np.min(energy.real)-2,np.max(energy.real)+3, colors = 'grey', linestyle = 'dashed')\n",
    "[plt.plot(linear_kpts, e, ',' , c = 'b', linewidth = 3, antialiased = True) for e in energy.real]\n",
    "plt.xticks(ticks,[r\"$\\Gamma$\",\"M\",\"K\",r\"$\\Gamma$\"])\n",
    "plt.ylim(-9,2.8)\n",
    "plt.ylabel(\"$E_{nk}(eV)$\")\n",
    "plt.xlim(np.min(linear_kpts),np.max(linear_kpts))\n",
    "plt.show()"
   ]
  },
  {
   "cell_type": "code",
   "execution_count": null,
   "id": "5ecfbed6-da18-4769-8b4e-e7c4bcae189c",
   "metadata": {},
   "outputs": [],
   "source": [
    "\n",
    "\n",
    "\n",
    "\n"
   ]
  },
  {
   "cell_type": "markdown",
   "id": "440bb13d-2670-4e16-8572-375a48c3eacd",
   "metadata": {},
   "source": [
    "$$O_{ij}(k) = \\sum_R e^{+ik.R}.O_{ij}(R)$$"
   ]
  },
  {
   "cell_type": "code",
   "execution_count": 5,
   "id": "7e41cce2-3e88-4c55-a26f-b0312a8669b4",
   "metadata": {},
   "outputs": [],
   "source": [
    "#bpath.plot(show = True, elev = np.pi/2)\n",
    "#plt.show()"
   ]
  },
  {
   "cell_type": "code",
   "execution_count": 6,
   "id": "a4b0ae9d-144f-49ec-92ad-cca95349aabd",
   "metadata": {},
   "outputs": [
    {
     "name": "stdout",
     "output_type": "stream",
     "text": [
      "Rotation matrix orthogonal:  True\n"
     ]
    }
   ],
   "source": [
    "max_distance = 10 # In units of the new lattice vector\n",
    "\n",
    "Umatrix = np.array([[0,1,0],\n",
    "                   [0,0,1],\n",
    "                   [1,0,0]])\n",
    "new_cell = np.dot(Umatrix,cell[:])\n",
    "\n",
    "x = new_cell[0]/np.sqrt(np.sum(new_cell[0]**2))\n",
    "\n",
    "z = np.cross(new_cell[0],new_cell[1])\n",
    "z /= np.sqrt(np.sum(z*z))\n",
    "\n",
    "y = np.cross(z,x)\n",
    "\n",
    "Rotation_matrix = np.array([x,y,z])\n",
    "print(\"Rotation matrix orthogonal: \",np.all(np.abs(Rotation_matrix.T@Rotation_matrix - np.eye(3)) < 1e-9)) # Make sure the rotation matrix is orthogonal\n",
    "rot_new_cell = np.dot(new_cell,Rotation_matrix.T)\n",
    "\n",
    "## Reciprocal cell on surface ##\n",
    "\n",
    "area = np.abs(rot_new_cell[0,0]*rot_new_cell[1,1] - rot_new_cell[1,0]*rot_new_cell[0,1] )\n",
    "recip_cell = np.zeros((2,2))\n",
    "\n",
    "recip_cell[0,0]= 2*np.pi/area*rot_new_cell[1,1]\n",
    "recip_cell[0,1]= -2*np.pi/area*rot_new_cell[1,0]\n",
    "recip_cell[1,0]= -2*np.pi/area*rot_new_cell[0,1]\n",
    "recip_cell[1,1]= 2*np.pi/area*rot_new_cell[0,0]\n",
    "\n",
    "#recip_cell\n",
    "\n",
    "#R_frac_new = np.dot(R_frac,np.linalg.inv(Umatrix))\n",
    "bpath = bandpath(path = [[0,-0.5,0],[0,0,0],[0,0.5,0]], cell = rot_new_cell, npoints = 100, eps = 1e-6)\n",
    "kpts = bpath.cartesian_kpts()\n",
    "#(linear_kpts,ticks,labels) = bpath.get_linear_kpoint_axis(1e-6)\n",
    "\n"
   ]
  },
  {
   "cell_type": "code",
   "execution_count": 7,
   "id": "ef1897c7-d980-43f9-8584-69f6ec42585c",
   "metadata": {},
   "outputs": [
    {
     "data": {
      "text/plain": [
       "(203.08863484999807, 203.0886348499981, 203.08863484999804)"
      ]
     },
     "execution_count": 7,
     "metadata": {},
     "output_type": "execute_result"
    }
   ],
   "source": [
    "np.dot(np.cross(cell[0],cell[1]),cell[2]) , np.dot(np.cross(new_cell[0],new_cell[1]),new_cell[2]),np.dot(np.cross(rot_new_cell[0],rot_new_cell[1]),rot_new_cell[2])"
   ]
  },
  {
   "cell_type": "code",
   "execution_count": null,
   "id": "13cd4a5d-a31c-4d66-a517-94904d8a76a4",
   "metadata": {},
   "outputs": [
    {
     "name": "stdout",
     "output_type": "stream",
     "text": [
      "Rotation matrix orthogonal:  True\n"
     ]
    }
   ],
   "source": [
    "vec = np.array([0,1,0])\n",
    "R_vec = np.dot(vec,cell[:])\n",
    "R_vec_length = np.sqrt(R_vec[0]**2+R_vec[1]**2)\n",
    "\n",
    "x = R_vec[0:2]/R_vec_length\n",
    "y = np.array([x[1],-1*x[0]])\n",
    "Rotation_matrix = np.array([x,y])\n",
    "print(\"Rotation matrix orthogonal: \",np.all(np.abs(Rotation_matrix.T@Rotation_matrix - np.eye(2)) < 1e-9)) # Make sure the rotation matrix is orthogonal\n",
    "#R1,R2 = np.dot(,Rotation_matrix.T)\n",
    "area = np.abs(cell[0,0]*cell[1,1] - cell[1,0]*cell[0,1] )\n",
    "length = area/R_vec_length\n",
    "\n",
    "ijmax = 10\n",
    "\n",
    "\n",
    "distances = (R_vec[1]*R_cart[:,0] - R_vec[0]*R_cart[:,1])/R_vec_length\n",
    "index = np.abs(distances) < ijmax*length\n",
    "R_cart = R_cart[index]\n",
    "degens = degens[index]\n",
    "hamiltonian_R = hamiltonian_R[index] \n",
    "R_cart_new = np.dot(R_cart[:,0:2],Rotation_matrix.T)\n",
    "num_principle = 2\n",
    "\n",
    "\n",
    "N = 101\n",
    "kpoints = np.linspace(0,2*np.pi/(R_vec_length),N)\n",
    "\n",
    "Ndim = num_principle*num_wann\n",
    "\n",
    "orbitals = np.array([0,1,2,3,4,5,6,7,8])\n",
    "orbitals2 = np.concatenate((orbitals,orbitals+num_wann))\n",
    "boundary_index = np.zeros(shape = (Ndim,Ndim), dtype = bool)\n",
    "\n",
    "for i in range(num_principle):\n",
    "    for j in range(num_principle):\n",
    "        for i2 in range(num_wann):\n",
    "            for j2 in range(num_wann):\n",
    "                if (i2 in orbitals) or (j2 in orbitals):\n",
    "                    boundary_index[i*num_wann + i2,j*num_wann + j2] = True\n",
    "\n",
    "itermax = 100\n",
    "\n",
    "#hamiltonian_k_ribbon = np.zeros(shape = (len(kpoints),num_wann,num_wann), dtype = complex)\n",
    "\n",
    "omegamin = -0.5\n",
    "omegamax = 0.5\n",
    "N = 101\n",
    "eta = (omegamax-omegamin)/(3*(N-1))\n",
    "\n",
    "omegas = np.linspace(omegamin,omegamax,N) + eta*1j\n",
    "bulk_state = np.zeros(shape = (len(kpoints),len(omegas)), dtype = np.double)\n",
    "surf_state_l = np.zeros(shape = (len(kpoints),len(omegas)), dtype = np.double)\n",
    "surf_state_r = np.zeros(shape = (len(kpoints),len(omegas)), dtype = np.double)\n",
    "hamiltonian_k_ribbon = np.zeros(shape = (len(kpoints),2*ijmax+1,num_wann,num_wann), dtype = np.complex128)\n",
    "H00 = np.zeros(shape = (len(kpoints),Ndim,Ndim), dtype = np.complex128)\n",
    "H01 = np.zeros(shape = (len(kpoints),Ndim,Ndim), dtype = np.complex128)\n",
    "\n",
    "from numba import njit\n",
    "\n",
    "\n",
    "def calc_surf_state():\n",
    "    \n",
    "    i = 0\n",
    "    for kpt in kpoints:\n",
    "    \n",
    "    #    for i,kpt in enumerate(kpoints):\n",
    "    #        for j,R in enumerate(R_cart_new):\n",
    "    #            hamiltonian_k_ribbon[i,:,:] += np.exp(1j*2*np.pi*(R[0]*kpt)) * hamiltonian_R[j,:,:]/degens[j]\n",
    "\n",
    "        j = 0\n",
    "        for R in R_cart_new:\n",
    "            hamiltonian_k_ribbon[i,int(distances[index][j]),:,:] += np.exp(1j*(R[0]*kpt)) * hamiltonian_R[j,:,:]/degens[j]\n",
    "            j += 1\n",
    "        \n",
    "        for j in range(num_principle):\n",
    "            for k in range(num_principle):\n",
    "                H00[i, j*num_wann: (j+1)*num_wann  ,k*num_wann: (k+1)*num_wann] = hamiltonian_k_ribbon[i,k-j,:,:]\n",
    "    \n",
    "        for j in range(num_principle):\n",
    "            for k in range(num_principle):\n",
    "                H01[i, j*num_wann: (j+1)*num_wann  ,k*num_wann: (k+1)*num_wann] = hamiltonian_k_ribbon[i,k+num_principle-j,:,:]\n",
    "        \n",
    "    \n",
    "        o = 0\n",
    "        for omega in omegas:\n",
    "    \n",
    "            epsiloni= np.copy(H00[i])\n",
    "            epsilons= np.copy(H00[i])\n",
    "            epsilons_t= np.copy(H00[i])\n",
    "            alphai  = np.copy(H01[i])\n",
    "            betai   = np.conjugate(np.copy(H01[i]).T)\n",
    "            g0 = np.zeros( shape = (Ndim,Ndim))\n",
    "            g1 = np.zeros( shape = (Ndim,Ndim))\n",
    "            g2 = np.zeros( shape = (Ndim,Ndim))\n",
    "            GL = np.zeros( shape = (Ndim,Ndim))\n",
    "            GR = np.zeros( shape = (Ndim,Ndim))\n",
    "            GB = np.zeros( shape = (Ndim,Ndim))\n",
    "    \n",
    "            \n",
    "            for j in range(itermax):\n",
    "                g0 = np.linalg.inv( omega*np.eye(Ndim,Ndim) - epsiloni )\n",
    "                g1 = alphai@g0@betai\n",
    "                g2 = betai@g0@alphai\n",
    "    \n",
    "                alphai = alphai@g0@alphai\n",
    "                betai = betai@g0@betai\n",
    "                epsiloni += g1 + g2\n",
    "                epsilons += g1\n",
    "                epsilons_t += g2\n",
    "    \n",
    "                if np.max(np.abs(alphai)) < 1e-16:\n",
    "                    break\n",
    "            \n",
    "            #print(j)\n",
    "            GL = np.linalg.inv( omega*np.eye(Ndim,Ndim) - epsilons    )\n",
    "            GR = np.linalg.inv( omega*np.ones(shape = (Ndim,Ndim)) - epsilons_t  )\n",
    "            GB = np.linalg.inv( omega*np.ones(shape = (Ndim,Ndim)) - epsiloni    )\n",
    "    \n",
    "            surf_state_l[i,o] = -np.sum( np.diag(GL.imag)[orbitals2] )\n",
    "            surf_state_r[i,o] = -np.sum( np.diag(GR.imag)[orbitals2] )\n",
    "            bulk_state[i,o] = -np.sum( np.diag(GB.imag) )\n",
    "\n",
    "            o += 1\n",
    "        i += 1\n",
    "\n",
    "\n",
    "calc_surf_state()\n"
   ]
  },
  {
   "cell_type": "code",
   "execution_count": null,
   "id": "fcc29974-bccc-413f-9015-debfc463932a",
   "metadata": {},
   "outputs": [],
   "source": [
    "plt.imshow(surf_state_l.T, origin = 'lower',cmap = 'gnuplot2',vmin = 0, vmax = 50, extent=[np.min(kpoints), np.max(kpoints), np.min(omegas.real), np.max(omegas.real)], aspect = 'auto'   )\n",
    "plt.colorbar()\n",
    "plt.ylabel(r\"$\\hbar \\omega(eV)$\")\n",
    "plt.tight_layout()\n",
    "plt.show()\n",
    "\n",
    "plt.imshow(surf_state_r.T, origin = 'lower',cmap = 'gnuplot2',vmin = 0, vmax = 50, extent=[np.min(kpoints), np.max(kpoints), np.min(omegas.real), np.max(omegas.real)], aspect = 'auto'   )\n",
    "plt.colorbar()\n",
    "plt.ylabel(r\"$\\hbar \\omega(eV)$\")\n",
    "plt.tight_layout()\n",
    "plt.show()\n",
    "\n",
    "#plt.imshow(surf_state_l.T, origin = 'lower',cmap = 'gist_heat',vmin = 0, vmax = 50)\n",
    "#plt.colorbar()\n",
    "\n",
    "#plt.show()\n",
    "\n",
    "plt.imshow(bulk_state.T,vmin = 0, vmax = 50, cmap = 'gnuplot2', origin = 'lower',extent=[np.min(kpoints), np.max(kpoints), np.min(omegas.real), np.max(omegas.real)], aspect = 'auto')\n",
    "plt.colorbar()\n",
    "plt.tight_layout()\n",
    "\n",
    "plt.show()"
   ]
  },
  {
   "cell_type": "code",
   "execution_count": null,
   "id": "bf371c5f-e843-4f79-859a-255262613f2f",
   "metadata": {},
   "outputs": [],
   "source": [
    "def check_hermitian(A):\n",
    "    return np.max(np.abs(np.conjugate(A.T) - A))\n",
    "\n",
    "check_hermitian(H00[1])"
   ]
  },
  {
   "cell_type": "code",
   "execution_count": null,
   "id": "8b03f604-97e2-4416-a4fb-16469aba40f0",
   "metadata": {},
   "outputs": [],
   "source": [
    "print(eta)"
   ]
  },
  {
   "cell_type": "code",
   "execution_count": null,
   "id": "a37fa4aa-27e8-4db1-8479-7889e45c6bb2",
   "metadata": {},
   "outputs": [],
   "source": [
    "GL[boundary_index].shape"
   ]
  },
  {
   "cell_type": "code",
   "execution_count": null,
   "id": "d8bcec2b-b57d-4591-850e-0b8b2860ef24",
   "metadata": {},
   "outputs": [],
   "source": [
    "surf_state_l.shape"
   ]
  },
  {
   "cell_type": "code",
   "execution_count": null,
   "id": "51b1754a-f944-4771-8a09-f4497379c9aa",
   "metadata": {},
   "outputs": [],
   "source": [
    "orbitals2"
   ]
  },
  {
   "cell_type": "code",
   "execution_count": null,
   "id": "63d2a123-aeae-4e98-98f1-3cc70e0b6b28",
   "metadata": {},
   "outputs": [],
   "source": [
    "length,R_vec_length"
   ]
  },
  {
   "cell_type": "code",
   "execution_count": null,
   "id": "da438dea-2f9e-4aeb-bcc6-be4fe8de3136",
   "metadata": {},
   "outputs": [],
   "source": []
  }
 ],
 "metadata": {
  "kernelspec": {
   "display_name": "Python 3 (ipykernel)",
   "language": "python",
   "name": "python3"
  },
  "language_info": {
   "codemirror_mode": {
    "name": "ipython",
    "version": 3
   },
   "file_extension": ".py",
   "mimetype": "text/x-python",
   "name": "python",
   "nbconvert_exporter": "python",
   "pygments_lexer": "ipython3",
   "version": "3.11.3"
  }
 },
 "nbformat": 4,
 "nbformat_minor": 5
}
