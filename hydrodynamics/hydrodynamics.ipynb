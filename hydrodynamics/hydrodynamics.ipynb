{
 "cells": [
  {
   "cell_type": "code",
   "execution_count": 5,
   "id": "628906f2",
   "metadata": {},
   "outputs": [],
   "source": [
    "import numpy as np\n",
    "import matplotlib.pyplot as plt"
   ]
  },
  {
   "cell_type": "code",
   "execution_count": 6,
   "id": "3c1e9984",
   "metadata": {},
   "outputs": [],
   "source": [
    "ITERMAX = 100000\n",
    "def poisson2d(pot,source,omega,tolerance):\n",
    "    new_pot = np.copy(pot)\n",
    "    count = 0\n",
    "    diff = 1\n",
    "    while(diff > tolerance):\n",
    "        if( i >= ITERMAX):\n",
    "            print(\"Reached iteration limit, Stopping.\")\n",
    "            break\n",
    "        new_pot[1:-1,1:-1] = (1-omega)*pot[1:-1,1:-1]+ (omega/4)*(pot[2:,1:-1]+pot[:-2,1:-1]+pot[1:-1,2:]+pot[1:-1,:-2] - h**2 * source[1:-1,1:-1])\n",
    "        diff = np.sum( (new_pot - pot)**2  )\n",
    "        np.copyto(pot,new_pot)\n",
    "        count+= 1\n",
    "    print(count)\n",
    "    return new_pot"
   ]
  },
  {
   "cell_type": "code",
   "execution_count": 7,
   "id": "2fb1efa5",
   "metadata": {},
   "outputs": [],
   "source": [
    "\n",
    "\n",
    "N = 101\n",
    "x = np.linspace(0,5,101 , dtype = np.double)\n",
    "y = np.linspace(0,5,101, dtype = np.double)\n",
    "h = x[1]-x[0]\n",
    "extent = [np.min(x),np.max(x),np.min(y),np.max(y)]\n",
    "\n",
    "A = 0\n",
    "V0 = 1\n",
    "\n",
    "def imshow(data,size = (8,8)):\n",
    "    figure = plt.figure( figsize = size)\n",
    "    plt.imshow(data, origin = 'lower', extent = extent)\n",
    "    plt.colorbar()\n",
    "\n",
    "X,Y = np.meshgrid(x,y)\n",
    "sf = Y\n",
    "vort = np.zeros(shape = (N,N), dtype = np.double)\n",
    "\n",
    "block = np.zeros( shape = (N,N), dtype = bool)\n",
    "up = int(0.5*N)\n",
    "left = int(0.3*N)\n",
    "right = int(0.6*N)\n",
    "block[0:up, left: right] = True\n",
    "\n",
    "def set_boundary(sf,vort,nsf,nvort):\n",
    "    \n",
    "    nvort[block] = 0\n",
    "    ns[block] = 0\n",
    "    \n",
    "    nvort[:,0] = 0\n",
    "    nvort[:,-1] = 0 # TODO\n",
    "    nvort[-1,:] = 0\n",
    "    nvort[0,:] = 0\n",
    "    \n",
    "    nsf[0,:] = 0\n",
    "    nsf[1:-1,0] = (1-omega)*sf[1:-1,0] + (omega/4)*( sf[2:,0] + sf[:-2,0] + 2*sf[1:-1,1] - 2*h*A  - h**2 * vort[1:-1,0] )\n",
    "    nsf[1:-1,-1] = (1-omega)*sf[1:-1,-1] + (omega/4)*( sf[2:,-1] + sf[:-2,-1] + 2*sf[1:-1,-2] + 2*h*A  - h**2 * vort[1:-1,-1] )\n",
    "    nsf[-1,1:-1] = (1-omega)*sf[-1,1:-1] + (omega/4)*( sf[-1,2:] + sf[-1,:-2] + 2*sf[-2,1:-1] + 2*h*V0  - h**2 * vort[-1,1:-1] )\n",
    "    \n",
    "    nsf[0:up,left] = 0\n",
    "    nsf[0:up,right] = 0\n",
    "    nsf[up,left:right] = 0\n",
    "    \n",
    "    nvort[0:up,left] = (2/h**2)*sf[0:up,left-1]\n",
    "    nvort[0:up,left] = (2/h**2)*sf[0:up,right+1]\n",
    "    nvort[up,left:right] = (2/h**2)*sf[up+1,left:right]"
   ]
  },
  {
   "cell_type": "code",
   "execution_count": 40,
   "id": "1b5362db",
   "metadata": {},
   "outputs": [
    {
     "name": "stdout",
     "output_type": "stream",
     "text": [
      "30 60 50\n"
     ]
    }
   ],
   "source": [
    "\n",
    "\n",
    "plt.show()\n",
    "print(left,right,up)\n"
   ]
  },
  {
   "cell_type": "code",
   "execution_count": 38,
   "id": "e583650e",
   "metadata": {},
   "outputs": [
    {
     "data": {
      "text/plain": [
       "(50,)"
      ]
     },
     "execution_count": 38,
     "metadata": {},
     "output_type": "execute_result"
    }
   ],
   "source": [
    "mask[0:up,left].shape"
   ]
  },
  {
   "cell_type": "code",
   "execution_count": 21,
   "id": "9eda3a0b",
   "metadata": {},
   "outputs": [
    {
     "data": {
      "text/plain": [
       "array([[False, False, False, ..., False, False, False],\n",
       "       [False, False, False, ..., False, False, False],\n",
       "       [False, False, False, ..., False, False, False],\n",
       "       ...,\n",
       "       [False, False, False, ..., False, False, False],\n",
       "       [False, False, False, ..., False, False, False],\n",
       "       [False, False, False, ..., False, False, False]])"
      ]
     },
     "execution_count": 21,
     "metadata": {},
     "output_type": "execute_result"
    }
   ],
   "source": [
    "mask[0:left]"
   ]
  },
  {
   "cell_type": "code",
   "execution_count": null,
   "id": "ee462208",
   "metadata": {},
   "outputs": [],
   "source": []
  }
 ],
 "metadata": {
  "kernelspec": {
   "display_name": "Python 3 (ipykernel)",
   "language": "python",
   "name": "python3"
  },
  "language_info": {
   "codemirror_mode": {
    "name": "ipython",
    "version": 3
   },
   "file_extension": ".py",
   "mimetype": "text/x-python",
   "name": "python",
   "nbconvert_exporter": "python",
   "pygments_lexer": "ipython3",
   "version": "3.10.1"
  }
 },
 "nbformat": 4,
 "nbformat_minor": 5
}
